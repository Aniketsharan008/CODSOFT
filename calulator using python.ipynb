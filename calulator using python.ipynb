{
 "cells": [
  {
   "cell_type": "code",
   "execution_count": null,
   "id": "69f5b1ab",
   "metadata": {},
   "outputs": [],
   "source": [
    "#calculator using python.\n",
    "a = input(\"choose one sign (+ - * /):\")\n",
    "nums = []\n",
    "print(\"Enter number:\")#this is used for enter the number one after another\n",
    "while True:\n",
    "    entry=input(\"->\")\n",
    "    if entry.lower() == \"stop\": #stop will finsh the turns of user inputs.\n",
    "        break\n",
    "    try:\n",
    "        nums.append(float(entry))\n",
    "    except:\n",
    "        print(\"invalid number!\")\n",
    "if len(nums)<2:\n",
    "    print(\"enter atleast two number\")\n",
    "else:\n",
    "    total = nums[0]\n",
    "    for n in nums[1:]:\n",
    "        if a == \"+\":\n",
    "            total += n\n",
    "        elif a ==\"-\":\n",
    "            total -= n\n",
    "        elif a ==\"*\":\n",
    "            total *= n\n",
    "        elif a ==\"/\":\n",
    "            if n == 0:\n",
    "                print(\"skipped dividion by zero\")\n",
    "                continue\n",
    "            total/=n\n",
    "        else:\n",
    "            print(\"unknown operation\")\n",
    "            break\n",
    "    else:\n",
    "            print(\"Ans:\",total)"
   ]
  }
 ],
 "metadata": {
  "kernelspec": {
   "display_name": "Python 3 (ipykernel)",
   "language": "python",
   "name": "python3"
  },
  "language_info": {
   "codemirror_mode": {
    "name": "ipython",
    "version": 3
   },
   "file_extension": ".py",
   "mimetype": "text/x-python",
   "name": "python",
   "nbconvert_exporter": "python",
   "pygments_lexer": "ipython3",
   "version": "3.11.4"
  }
 },
 "nbformat": 4,
 "nbformat_minor": 5
}
