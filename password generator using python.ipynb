{
 "cells": [
  {
   "cell_type": "code",
   "execution_count": null,
   "id": "4e7a8c79",
   "metadata": {},
   "outputs": [],
   "source": [
    "#password generator:-\n",
    "import random\n",
    "import string\n",
    "\n",
    "#Asking user for password length\n",
    "try:\n",
    "    pwd_length = int(input(\"total character: \"))\n",
    "    if pwd_length < 1:\n",
    "        print(\"Password length must be at least 1.\")\n",
    "        exit()\n",
    "except ValueError:\n",
    "    print(\"Please enter a valid number.\")\n",
    "    exit()\n",
    "\n",
    "#Generating the password\n",
    "char_pool = string.ascii_letters + string.digits + string.punctuation\n",
    "secure_password = ''.join(random.choice(char_pool) for _ in range(pwd_length))\n",
    "\n",
    "#Display the password\n",
    "print(f\" Your new secure password is: {secure_password}\")"
   ]
  }
 ],
 "metadata": {
  "kernelspec": {
   "display_name": "Python 3 (ipykernel)",
   "language": "python",
   "name": "python3"
  },
  "language_info": {
   "codemirror_mode": {
    "name": "ipython",
    "version": 3
   },
   "file_extension": ".py",
   "mimetype": "text/x-python",
   "name": "python",
   "nbconvert_exporter": "python",
   "pygments_lexer": "ipython3",
   "version": "3.11.4"
  }
 },
 "nbformat": 4,
 "nbformat_minor": 5
}
